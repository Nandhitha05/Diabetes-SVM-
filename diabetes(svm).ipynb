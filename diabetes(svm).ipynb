{
  "nbformat": 4,
  "nbformat_minor": 0,
  "metadata": {
    "colab": {
      "provenance": [],
      "include_colab_link": true
    },
    "kernelspec": {
      "name": "python3",
      "display_name": "Python 3"
    },
    "language_info": {
      "name": "python"
    }
  },
  "cells": [
    {
      "cell_type": "markdown",
      "metadata": {
        "id": "view-in-github",
        "colab_type": "text"
      },
      "source": [
        "<a href=\"https://colab.research.google.com/github/Nandhitha05/diabetes-svm-/blob/main/diabetes(svm).ipynb\" target=\"_parent\"><img src=\"https://colab.research.google.com/assets/colab-badge.svg\" alt=\"Open In Colab\"/></a>"
      ]
    },
    {
      "cell_type": "code",
      "execution_count": null,
      "metadata": {
        "id": "5ZMqSezg1m3c"
      },
      "outputs": [],
      "source": [
        "#importing the requirements\n",
        "import numpy as np\n",
        "import pandas as pd\n",
        "from sklearn.preprocessing import StandardScaler\n",
        "from sklearn.model_selection import train_test_split\n",
        "from sklearn import svm\n",
        "from sklearn.metrics import accuracy_score"
      ]
    },
    {
      "cell_type": "code",
      "source": [
        "#loading the datasets into pandas df\n",
        "diabdata = pd.read_csv('/content/diabetes.csv')\n"
      ],
      "metadata": {
        "id": "PGsW3wpU5IOa"
      },
      "execution_count": null,
      "outputs": []
    },
    {
      "cell_type": "code",
      "source": [
        "diabdata.head()"
      ],
      "metadata": {
        "id": "07nlu4Om77eF"
      },
      "execution_count": null,
      "outputs": []
    },
    {
      "cell_type": "code",
      "source": [
        "#number of rows and cols\n",
        "diabdata.shape"
      ],
      "metadata": {
        "id": "rhrSzY458K-h"
      },
      "execution_count": null,
      "outputs": []
    },
    {
      "cell_type": "code",
      "source": [
        "#getting statistical decription\n",
        "diabdata.describe()"
      ],
      "metadata": {
        "id": "iF1QkfVR8pa1"
      },
      "execution_count": null,
      "outputs": []
    },
    {
      "cell_type": "code",
      "source": [
        "diabdata['Outcome'].value_counts()"
      ],
      "metadata": {
        "id": "IKi8ga5q8yF9"
      },
      "execution_count": null,
      "outputs": []
    },
    {
      "cell_type": "code",
      "source": [
        "diabdata.groupby('Outcome').mean()"
      ],
      "metadata": {
        "id": "lZ078zEa9L1j"
      },
      "execution_count": null,
      "outputs": []
    },
    {
      "cell_type": "code",
      "source": [
        "x = diabdata.drop(columns = 'Outcome', axis=1)\n",
        "y = diabdata['Outcome']"
      ],
      "metadata": {
        "id": "AHbjXssx4onG"
      },
      "execution_count": null,
      "outputs": []
    },
    {
      "cell_type": "code",
      "source": [
        "x\n"
      ],
      "metadata": {
        "id": "WLvfycRL5ae9"
      },
      "execution_count": null,
      "outputs": []
    },
    {
      "cell_type": "code",
      "source": [
        "y"
      ],
      "metadata": {
        "id": "EvvezNnX5eN-"
      },
      "execution_count": null,
      "outputs": []
    },
    {
      "cell_type": "code",
      "source": [
        "stdscaler = StandardScaler()"
      ],
      "metadata": {
        "id": "00TzXCc85i14"
      },
      "execution_count": null,
      "outputs": []
    },
    {
      "cell_type": "code",
      "source": [
        "stdscaler.fit(x)\n"
      ],
      "metadata": {
        "id": "jM7PYUmt528m"
      },
      "execution_count": null,
      "outputs": []
    },
    {
      "cell_type": "code",
      "source": [
        "stddata = stdscaler.transform(x)"
      ],
      "metadata": {
        "id": "un5CrkQi57Ge"
      },
      "execution_count": null,
      "outputs": []
    },
    {
      "cell_type": "code",
      "source": [
        "stddata"
      ],
      "metadata": {
        "id": "9_dmdDXx6SNw"
      },
      "execution_count": null,
      "outputs": []
    },
    {
      "cell_type": "code",
      "source": [
        "x = stddata\n",
        "y = diabdata['Outcome']"
      ],
      "metadata": {
        "id": "n8XgFmdD6Yt8"
      },
      "execution_count": null,
      "outputs": []
    },
    {
      "cell_type": "code",
      "source": [
        "x\n"
      ],
      "metadata": {
        "id": "7IBOk_CO6oXv"
      },
      "execution_count": null,
      "outputs": []
    },
    {
      "cell_type": "code",
      "source": [
        "y"
      ],
      "metadata": {
        "id": "4c1oxCWP6pzx"
      },
      "execution_count": null,
      "outputs": []
    },
    {
      "cell_type": "code",
      "source": [
        "#splitting training and testing data sets\n",
        "x_train , x_test, y_train, y_test = train_test_split(x,y,test_size=0.2,stratify = y, random_state=2)"
      ],
      "metadata": {
        "id": "d-h8tzpI6q4k"
      },
      "execution_count": null,
      "outputs": []
    },
    {
      "cell_type": "code",
      "source": [
        "x.shape"
      ],
      "metadata": {
        "id": "2WIgl6ve7eNO"
      },
      "execution_count": null,
      "outputs": []
    },
    {
      "cell_type": "code",
      "source": [
        "x_train.shape"
      ],
      "metadata": {
        "id": "LVteS4_Y7h-R"
      },
      "execution_count": null,
      "outputs": []
    },
    {
      "cell_type": "code",
      "source": [
        "model = svm.SVC(kernel='linear')"
      ],
      "metadata": {
        "id": "o9kkiaMy7kJC"
      },
      "execution_count": null,
      "outputs": []
    },
    {
      "cell_type": "code",
      "source": [
        "#putting data set into svm model(classifier)\n",
        "\n",
        "model.fit(x_train,y_train)"
      ],
      "metadata": {
        "id": "XTB7HEFt8Ghp"
      },
      "execution_count": null,
      "outputs": []
    },
    {
      "cell_type": "code",
      "source": [
        "#checking accuracy score on training\n",
        "xt_acc = model.predict(x_train)\n",
        "training_accuracy = accuracy_score(xt_acc,y_train)\n"
      ],
      "metadata": {
        "id": "Ob6_z0lX8Tb1"
      },
      "execution_count": null,
      "outputs": []
    },
    {
      "cell_type": "code",
      "source": [
        "\n",
        "training_accuracy"
      ],
      "metadata": {
        "id": "cDK_nJcB9Tks"
      },
      "execution_count": null,
      "outputs": []
    },
    {
      "cell_type": "code",
      "source": [
        "#check on test data\n",
        "\n",
        "xtest_acc = model.predict(x_test)\n",
        "testing_accuracy = accuracy_score(xtest_acc,y_test)\n"
      ],
      "metadata": {
        "id": "-DM-ok6t9-8X"
      },
      "execution_count": null,
      "outputs": []
    },
    {
      "cell_type": "code",
      "source": [
        "testing_accuracy"
      ],
      "metadata": {
        "id": "hYraUbfe-cxw"
      },
      "execution_count": null,
      "outputs": []
    },
    {
      "cell_type": "code",
      "source": [
        "#building predictive system\n",
        "ip = (1,89,66,23,94,28.1,0.167,21)\n",
        "#changing ip data into numpy array\n",
        "iparr = np.asarray(ip)\n",
        "iparr\n",
        "#reshaping the array as the model wil expect 768 instances , but i'm giving only one\n",
        "ipnew = iparr.reshape(1,-1)\n",
        "#in the begining i standardized the data before putting it into the classifier , so i'm repeating the same for the input\n",
        "stdip = stdscaler.transform(ipnew)\n",
        "stdip\n",
        "myprediction  = model.predict(stdip)\n",
        "print(myprediction)\n",
        "\n",
        "if(myprediction[0] == 1):\n",
        "  print(\"Diabetic\")\n",
        "else:\n",
        "  print(\"Non-Diabetic\")"
      ],
      "metadata": {
        "id": "tMTlxUSS-f59"
      },
      "execution_count": null,
      "outputs": []
    },
    {
      "cell_type": "markdown",
      "source": [],
      "metadata": {
        "id": "COgE9zfTA8qS"
      }
    },
    {
      "cell_type": "code",
      "source": [],
      "metadata": {
        "id": "PwtNmdb3ATdF"
      },
      "execution_count": null,
      "outputs": []
    }
  ]
}